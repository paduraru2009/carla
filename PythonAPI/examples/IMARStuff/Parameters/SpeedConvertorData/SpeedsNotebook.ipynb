{
 "cells": [
  {
   "cell_type": "code",
   "execution_count": 94,
   "metadata": {},
   "outputs": [],
   "source": [
    "import numpy as np\n",
    "from sklearn.linear_model import LinearRegression\n",
    "from sklearn.linear_model import ElasticNet\n",
    "import pandas as pd\n",
    "\n",
    "# Set parameters and read the CSV file\n",
    "degreePolyFit = 6\n",
    "useElasticNet = False\n",
    "data = pd.read_csv(\"speeds.csv\")"
   ]
  },
  {
   "cell_type": "code",
   "execution_count": 95,
   "metadata": {},
   "outputs": [],
   "source": [
    "# From an array of [[x], [y], [z] ...] => [[x^2, x^2, x^3...x^newDegree], y.., z...]\n",
    "# From single value to polynimial of a given degree\n",
    "def augmentSingleValueData(X, newDegree):\n",
    "    Xaug = np.zeros((X.shape[0], newDegree))\n",
    "    for row in range(X.shape[0]):\n",
    "        val = X[row]\n",
    "        Xaug[row] = np.array([pow(val,i) for i in range(1,newDegree+1)]).squeeze()\n",
    "    return Xaug\n",
    "\n",
    "#augmentSingleValueData(np.array([[1],[2],[3]]), 3)\n",
    "    "
   ]
  },
  {
   "cell_type": "code",
   "execution_count": 96,
   "metadata": {},
   "outputs": [
    {
     "data": {
      "text/plain": [
       "[<matplotlib.lines.Line2D at 0x1a266637b8>]"
      ]
     },
     "execution_count": 96,
     "metadata": {},
     "output_type": "execute_result"
    },
    {
     "data": {
      "image/png": "[encoded data removed]",
      "text/plain": [
       "<Figure size 432x288 with 1 Axes>"
      ]
     },
     "metadata": {
      "needs_background": "light"
     },
     "output_type": "display_data"
    }
   ],
   "source": [
    "# Augment and fit the data from the csv file\n",
    "X = data['SpeedObtained'].to_numpy().reshape(-1,1) * 0.01\n",
    "y = data['TargetSpeed'].to_numpy() * 0.01\n",
    "Xaug = augmentSingleValueData(X, degreePolyFit)\n",
    "\n",
    "if useElasticNet:\n",
    "    reg = ElasticNet(random_state=0).fit(Xaug,y)\n",
    "else:\n",
    "    reg = LinearRegression().fit(Xaug,y)\n",
    "\n",
    "# Plot the input values\n",
    "import matplotlib.pyplot as pyplot\n",
    "pyplot.plot(X,y, marker='o', linestyle='dashed', linewidth=1,markersize=4)"
   ]
  },
  {
   "cell_type": "code",
   "execution_count": 97,
   "metadata": {},
   "outputs": [
    {
     "data": {
      "text/plain": [
       "[<matplotlib.lines.Line2D at 0x1a266b8f28>]"
      ]
     },
     "execution_count": 97,
     "metadata": {},
     "output_type": "execute_result"
    },
    {
     "data": {
      "image/png": "[encoded data removed]",
      "text/plain": [
       "<Figure size 432x288 with 1 Axes>"
      ]
     },
     "metadata": {
      "needs_background": "light"
     },
     "output_type": "display_data"
    }
   ],
   "source": [
    "# Test the prediction\n",
    "Inputs = np.array([[x] for x in np.linspace(1.0,4.1, 1000)])\n",
    "InputsAug = augmentSingleValueData(Inputs, degreePolyFit)\n",
    "Outputs = reg.predict(InputsAug)\n",
    "pyplot.plot(Inputs, Outputs)"
   ]
  },
  {
   "cell_type": "code",
   "execution_count": 98,
   "metadata": {},
   "outputs": [
    {
     "name": "stdout",
     "output_type": "stream",
     "text": [
      "Coefficients:\n",
      "\n",
      "x^0 -> -2522.520917\n",
      "x^1 -> 7642.699933\n",
      "x^2 -> -8924.105149\n",
      "x^3 -> 5200.883118\n",
      "x^4 -> -1584.463038\n",
      "x^5 -> 243.846081\n",
      "x^6 -> -14.967646\n"
     ]
    }
   ],
   "source": [
    "print(\"Coefficients after fitting algorithm:\\n\")\n",
    "# Get the coefficients to save them and use in the code\n",
    "print('x^0 -> {0:.6f}'.format(reg.intercept_))\n",
    "for deg in range(0, degreePolyFit):\n",
    "    print('x^{0} -> {1:.6f}'.format(deg+1,reg.coef_[deg]))"
   ]
  },
  {
   "cell_type": "code",
   "execution_count": 136,
   "metadata": {},
   "outputs": [
    {
     "name": "stdout",
     "output_type": "stream",
     "text": [
      "[167.25993779]\n"
     ]
    }
   ],
   "source": [
    "# Predict single value\n",
    "#testInputs = np.array([[2]])\n",
    "#testInputsAug = augmentSingleValueData(testInputs, degreePolyFit)\n",
    "#testOutputs = reg.predict(testInputsAug)\n",
    "#print(testOutputs)"
   ]
  },
  {
   "cell_type": "code",
   "execution_count": 124,
   "metadata": {},
   "outputs": [],
   "source": [
    "# Write coefficients to file\n",
    "# NUM x^0_coef, x^1_coef ..... x^NUM\n",
    "from array import array\n",
    "import struct\n",
    "output_file = open('speedFactors.bin', 'wb')\n",
    "numItems = (len(reg.coef_) + 1)\n",
    "dataToSave = struct.pack('i'+'f'*numItems, numItems, reg.intercept_, *reg.coef_)\n",
    "output_file.write(dataToSave)\n",
    "output_file.close()"
   ]
  },
  {
   "cell_type": "code",
   "execution_count": 137,
   "metadata": {},
   "outputs": [
    {
     "name": "stdout",
     "output_type": "stream",
     "text": [
      "Num coefficients used:  7\n",
      "Coefficients written to file:  (-2522.52099609375, 7642.69970703125, -8924.10546875, 5200.88330078125, -1584.4630126953125, 243.84608459472656, -14.967646598815918)\n"
     ]
    }
   ],
   "source": [
    "# Read test\n",
    "input_file = open('speedFactors.bin', 'rb')\n",
    "\n",
    "R = input_file.read()\n",
    "num_items = struct.unpack('i', R[0:4])[0]\n",
    "print(\"Num coefficients used: \", num_items)\n",
    "R = R[4:]\n",
    "items = struct.unpack('f'*num_items, R)\n",
    "print(\"Coefficients written to file: \", items)"
   ]
  },
  {
   "cell_type": "code",
   "execution_count": null,
   "metadata": {},
   "outputs": [],
   "source": []
  }
 ],
 "metadata": {
  "kernelspec": {
   "display_name": "Python 3",
   "language": "python",
   "name": "python3"
  },
  "language_info": {
   "codemirror_mode": {
    "name": "ipython",
    "version": 3
   },
   "file_extension": ".py",
   "mimetype": "text/x-python",
   "name": "python",
   "nbconvert_exporter": "python",
   "pygments_lexer": "ipython3",
   "version": "3.7.3"
  }
 },
 "nbformat": 4,
 "nbformat_minor": 2
}
